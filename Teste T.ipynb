{
 "cells": [
  {
   "cell_type": "code",
   "execution_count": 100,
   "id": "218cfc67",
   "metadata": {},
   "outputs": [],
   "source": [
    "import pandas as pd\n",
    "import scipy \n",
    "from statistics import stdev \n",
    "from math import sqrt\n",
    "from scipy import stats\n",
    "import matplotlib.pyplot as plt\n",
    "import numpy as np\n",
    "from scipy.stats import t"
   ]
  },
  {
   "cell_type": "code",
   "execution_count": 81,
   "id": "d3ba504c",
   "metadata": {},
   "outputs": [],
   "source": [
    "nvidia = pd.read_csv('NVIDIA (1999-2023).csv')\n",
    "amd = pd.read_csv('AMD (1980-2023).csv')"
   ]
  },
  {
   "cell_type": "code",
   "execution_count": 109,
   "id": "2731733e",
   "metadata": {
    "scrolled": true
   },
   "outputs": [
    {
     "data": {
      "text/html": [
       "<div>\n",
       "<style scoped>\n",
       "    .dataframe tbody tr th:only-of-type {\n",
       "        vertical-align: middle;\n",
       "    }\n",
       "\n",
       "    .dataframe tbody tr th {\n",
       "        vertical-align: top;\n",
       "    }\n",
       "\n",
       "    .dataframe thead th {\n",
       "        text-align: right;\n",
       "    }\n",
       "</style>\n",
       "<table border=\"1\" class=\"dataframe\">\n",
       "  <thead>\n",
       "    <tr style=\"text-align: right;\">\n",
       "      <th></th>\n",
       "      <th>Date</th>\n",
       "      <th>Adj_Close_NVIDIA</th>\n",
       "      <th>Adj_Close_AMD</th>\n",
       "    </tr>\n",
       "  </thead>\n",
       "  <tbody>\n",
       "    <tr>\n",
       "      <th>0</th>\n",
       "      <td>2020-01-02</td>\n",
       "      <td>59.760399</td>\n",
       "      <td>49.099998</td>\n",
       "    </tr>\n",
       "    <tr>\n",
       "      <th>1</th>\n",
       "      <td>2020-01-03</td>\n",
       "      <td>58.803871</td>\n",
       "      <td>48.599998</td>\n",
       "    </tr>\n",
       "    <tr>\n",
       "      <th>2</th>\n",
       "      <td>2020-01-06</td>\n",
       "      <td>59.050472</td>\n",
       "      <td>48.389999</td>\n",
       "    </tr>\n",
       "    <tr>\n",
       "      <th>3</th>\n",
       "      <td>2020-01-07</td>\n",
       "      <td>59.765388</td>\n",
       "      <td>48.250000</td>\n",
       "    </tr>\n",
       "    <tr>\n",
       "      <th>4</th>\n",
       "      <td>2020-01-08</td>\n",
       "      <td>59.877476</td>\n",
       "      <td>47.830002</td>\n",
       "    </tr>\n",
       "    <tr>\n",
       "      <th>...</th>\n",
       "      <td>...</td>\n",
       "      <td>...</td>\n",
       "      <td>...</td>\n",
       "    </tr>\n",
       "    <tr>\n",
       "      <th>820</th>\n",
       "      <td>2023-04-05</td>\n",
       "      <td>268.809998</td>\n",
       "      <td>92.559998</td>\n",
       "    </tr>\n",
       "    <tr>\n",
       "      <th>821</th>\n",
       "      <td>2023-04-06</td>\n",
       "      <td>270.369995</td>\n",
       "      <td>92.470001</td>\n",
       "    </tr>\n",
       "    <tr>\n",
       "      <th>822</th>\n",
       "      <td>2023-04-10</td>\n",
       "      <td>275.790009</td>\n",
       "      <td>95.480003</td>\n",
       "    </tr>\n",
       "    <tr>\n",
       "      <th>823</th>\n",
       "      <td>2023-04-11</td>\n",
       "      <td>271.690002</td>\n",
       "      <td>94.029999</td>\n",
       "    </tr>\n",
       "    <tr>\n",
       "      <th>824</th>\n",
       "      <td>2023-04-12</td>\n",
       "      <td>264.950012</td>\n",
       "      <td>92.330002</td>\n",
       "    </tr>\n",
       "  </tbody>\n",
       "</table>\n",
       "<p>825 rows × 3 columns</p>\n",
       "</div>"
      ],
      "text/plain": [
       "          Date  Adj_Close_NVIDIA  Adj_Close_AMD\n",
       "0   2020-01-02         59.760399      49.099998\n",
       "1   2020-01-03         58.803871      48.599998\n",
       "2   2020-01-06         59.050472      48.389999\n",
       "3   2020-01-07         59.765388      48.250000\n",
       "4   2020-01-08         59.877476      47.830002\n",
       "..         ...               ...            ...\n",
       "820 2023-04-05        268.809998      92.559998\n",
       "821 2023-04-06        270.369995      92.470001\n",
       "822 2023-04-10        275.790009      95.480003\n",
       "823 2023-04-11        271.690002      94.029999\n",
       "824 2023-04-12        264.950012      92.330002\n",
       "\n",
       "[825 rows x 3 columns]"
      ]
     },
     "metadata": {},
     "output_type": "display_data"
    }
   ],
   "source": [
    "nvidia = Imputer(nvidia).activate(\"2020-01-01\")\n",
    "amd = Imputer(amd).activate(\"2020-01-01\")\n",
    "merged_df = pd.merge(nvidia.iloc[:,[0,5]], amd.iloc[:,[0,5]], on=\"Date\", how=\"outer\")\n",
    "merged_df.columns = [\"Date\", \"Adj_Close_NVIDIA\", \"Adj_Close_AMD\"]\n",
    "merged_df1 = merged_df.drop(columns = 'Date')\n",
    "display(merged_df)\n"
   ]
  },
  {
   "cell_type": "code",
   "execution_count": 110,
   "id": "692f3a9d",
   "metadata": {},
   "outputs": [],
   "source": [
    "nvidia1 = merged_df['Adj_Close_NVIDIA']\n",
    "amd1 = merged_df['Adj_Close_AMD']"
   ]
  },
  {
   "attachments": {
    "image.png": {
     "image/png": "[encoded data removed]"
    }
   },
   "cell_type": "markdown",
   "id": "cb71f7d1",
   "metadata": {},
   "source": [
    "## Teste T\n",
    "Hipotese 0 H0 = Média das ações na pandemia da NVIDIA = Média das ações na pandemia da AMD\n",
    "\n",
    "Hipotese 1 H1 Média das ações na pandemia da NVIDIA ≠ Média das ações na pandemia da AMD\n",
    "![image.png](attachment:image.png)"
   ]
  },
  {
   "cell_type": "code",
   "execution_count": 120,
   "id": "b06f3d96",
   "metadata": {},
   "outputs": [
    {
     "name": "stdout",
     "output_type": "stream",
     "text": [
      "T-statistc: 33.126348192433944\n",
      "Degrees of freedom: 1648\n",
      "T-critical value: 1.645778767293261\n",
      "P-value: 0.0\n"
     ]
    }
   ],
   "source": [
    "def t_statistic(): \n",
    "    alpha = 0.05 # escolhendo um nível alfa\n",
    "  \n",
    "    nvidia_mean = merged_df['Adj_Close_NVIDIA'].mean() #Média da nvidia X barra 1\n",
    "    amd_mean = merged_df['Adj_Close_AMD'].mean() #Média da amd X barra 2\n",
    "    dif = nvidia_mean - amd_mean #diferença das médias\n",
    "\n",
    "    std_nvidia = stdev(merged_df['Adj_Close_NVIDIA']) #desvio padrao da nvidia s^2 1\n",
    "    std_amd = stdev(merged_df['Adj_Close_AMD']) #devio padrao da amd s^2 2\n",
    "    \n",
    "    n_nvidia = len(merged_df['Adj_Close_NVIDIA']) #Numero de elementos na amostra N1 nvidia\n",
    "    n_amd = len(merged_df['Adj_Close_AMD']) #Numero de elementos na amostra N2 amd    \n",
    "    dbm = sqrt(((std_nvidia**2)/n_nvidia) + ((std_amd**2)/n_amd)) #Erro Padrão dessas duas amostras juntas (Denominador)\n",
    "    \n",
    "    t = dif/dbm # t valor\n",
    "    \n",
    "    df = n_nvidia + n_amd - 2 #Grau de liberdade\n",
    "    \n",
    "    crit_val =  scipy.stats.t.ppf(1.0 -alpha, df) \n",
    "    \n",
    "    p = (1 - scipy.stats.t.cdf(abs(t), df)) * 2\n",
    "    \n",
    "    return t, df, crit_val, p\n",
    "t_stats, df, cv, p = t_statistic() \n",
    "print(f'T-statistc: {t_stats}')\n",
    "print(f'Degrees of freedom: {df}')\n",
    "print(f'T-critical value: {cv}')\n",
    "print(f'P-value: {p}')"
   ]
  },
  {
   "cell_type": "code",
   "execution_count": 35,
   "id": "3a3cf955",
   "metadata": {},
   "outputs": [],
   "source": [
    "from scipy.stats import ttest_ind"
   ]
  },
  {
   "cell_type": "code",
   "execution_count": 112,
   "id": "24e4d75b",
   "metadata": {},
   "outputs": [
    {
     "name": "stdout",
     "output_type": "stream",
     "text": [
      "T-statistic: 33.12634819243399\n",
      "P-value: 7.239358972768469e-185\n"
     ]
    }
   ],
   "source": [
    "stat, p = ttest_ind(nvidia1, amd1)\n",
    "print(f'T-statistic: {stat}')\n",
    "print(f'P-value: {p}')"
   ]
  },
  {
   "cell_type": "code",
   "execution_count": 115,
   "id": "de703711",
   "metadata": {},
   "outputs": [
    {
     "data": {
      "image/png": "[encoded data removed]",
      "text/plain": [
       "<Figure size 432x288 with 1 Axes>"
      ]
     },
     "metadata": {
      "needs_background": "light"
     },
     "output_type": "display_data"
    }
   ],
   "source": [
    "plt.hist(merged_df1, rwidth=1)\n",
    "plt.show()"
   ]
  },
  {
   "cell_type": "code",
   "execution_count": 124,
   "id": "a14cc5b5",
   "metadata": {},
   "outputs": [
    {
     "data": {
      "image/png": "[encoded data removed]",
      "text/plain": [
       "<Figure size 432x288 with 1 Axes>"
      ]
     },
     "metadata": {
      "needs_background": "light"
     },
     "output_type": "display_data"
    }
   ],
   "source": [
    "plt.plot(merged_df1)\n",
    "plt.show()"
   ]
  }
 ],
 "metadata": {
  "kernelspec": {
   "display_name": "Python 3 (ipykernel)",
   "language": "python",
   "name": "python3"
  },
  "language_info": {
   "codemirror_mode": {
    "name": "ipython",
    "version": 3
   },
   "file_extension": ".py",
   "mimetype": "text/x-python",
   "name": "python",
   "nbconvert_exporter": "python",
   "pygments_lexer": "ipython3",
   "version": "3.9.12"
  }
 },
 "nbformat": 4,
 "nbformat_minor": 5
}
